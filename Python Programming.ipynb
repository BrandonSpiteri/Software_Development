{
 "cells": [
  {
   "cell_type": "markdown",
   "id": "dominican-candy",
   "metadata": {},
   "source": [
    "### 1. Generator\n",
    "Calculate for of all numbers from 0 to a limit number which are divisible by supplied divisor. \n",
    "Use it to calculate sum of all positive integeres less than 102030 which are divisible by 3."
   ]
  },
  {
   "cell_type": "code",
   "execution_count": 7,
   "id": "charming-surgery",
   "metadata": {},
   "outputs": [],
   "source": [
    "def generator (limit, divisor):\n",
    "    \n",
    "    integers=[]\n",
    "    if limit <0:\n",
    "        return 0\n",
    "    elif divisor <= 0:\n",
    "        return 0\n",
    "    else:\n",
    "        for i in range(0, limit+1, divisor):\n",
    "            if (i%3==0) and (i<102030):\n",
    "                integers.append(i)\n",
    "        return(sum(integers))\n",
    "    "
   ]
  },
  {
   "cell_type": "code",
   "execution_count": 8,
   "id": "technical-graduation",
   "metadata": {},
   "outputs": [
    {
     "data": {
      "text/plain": [
       "6"
      ]
     },
     "execution_count": 8,
     "metadata": {},
     "output_type": "execute_result"
    }
   ],
   "source": [
    "generator(10,2)"
   ]
  },
  {
   "cell_type": "markdown",
   "id": "pharmaceutical-cabinet",
   "metadata": {},
   "source": [
    "### 2. List of Lists\n",
    "Generate list of n lists such that:\n",
    "\n",
    "f(0) returns []\n",
    "\n",
    "f(3) returns [[1], [1,2], [1,2,3]]"
   ]
  },
  {
   "cell_type": "code",
   "execution_count": 12,
   "id": "metallic-junior",
   "metadata": {},
   "outputs": [],
   "source": [
    "def list_of_lists(n):\n",
    "    result=[]\n",
    "    if n<=0:\n",
    "        return []\n",
    "    else:\n",
    "        for i in range(1,n+1):\n",
    "            result.append(list(range(1,i+1)))\n",
    "        return result"
   ]
  },
  {
   "cell_type": "code",
   "execution_count": 14,
   "id": "former-wound",
   "metadata": {},
   "outputs": [
    {
     "data": {
      "text/plain": [
       "[[1], [1, 2], [1, 2, 3]]"
      ]
     },
     "execution_count": 14,
     "metadata": {},
     "output_type": "execute_result"
    }
   ],
   "source": [
    "list_of_lists(3)"
   ]
  },
  {
   "cell_type": "code",
   "execution_count": null,
   "id": "supposed-differential",
   "metadata": {},
   "outputs": [],
   "source": []
  }
 ],
 "metadata": {
  "kernelspec": {
   "display_name": "Python 3",
   "language": "python",
   "name": "python3"
  },
  "language_info": {
   "codemirror_mode": {
    "name": "ipython",
    "version": 3
   },
   "file_extension": ".py",
   "mimetype": "text/x-python",
   "name": "python",
   "nbconvert_exporter": "python",
   "pygments_lexer": "ipython3",
   "version": "3.6.5"
  }
 },
 "nbformat": 4,
 "nbformat_minor": 5
}
